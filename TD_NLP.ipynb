{
 "cells": [
  {
   "cell_type": "markdown",
   "metadata": {},
   "source": [
    "TD : Collecte des Données en Python pour le\n",
    "Traitement du Langage Naturel (NLP)"
   ]
  },
  {
   "cell_type": "markdown",
   "metadata": {},
   "source": [
    "\n",
    "\n",
    "Objectifs du TD\n",
    "\n",
    "— Comprendre les méthodes de collecte de données pour le NLP.\n",
    "\n",
    "— Manipuler des outils pour extraire des textes à partir de sources variées.\n",
    "\n",
    "\n",
    "— Explorer les sources de données en ligne et apprendre à extraire des informations.\n"
   ]
  },
  {
   "cell_type": "markdown",
   "metadata": {},
   "source": [
    "Importation des bibliothèques nécessaires"
   ]
  },
  {
   "cell_type": "code",
   "execution_count": 3,
   "metadata": {},
   "outputs": [
    {
     "name": "stdout",
     "output_type": "stream",
     "text": [
      "Defaulting to user installation because normal site-packages is not writeable\n",
      "Collecting requests\n",
      "  Downloading requests-2.32.3-py3-none-any.whl (64 kB)\n",
      "\u001b[K     |████████████████████████████████| 64 kB 1.5 MB/s eta 0:00:01\n",
      "\u001b[?25hCollecting beautifulsoup4\n",
      "  Downloading beautifulsoup4-4.12.3-py3-none-any.whl (147 kB)\n",
      "\u001b[K     |████████████████████████████████| 147 kB 3.5 MB/s eta 0:00:01\n",
      "\u001b[?25hCollecting pandas\n",
      "  Downloading pandas-2.2.3-cp39-cp39-macosx_11_0_arm64.whl (11.3 MB)\n",
      "\u001b[K     |████████████████████████████████| 11.3 MB 19.2 MB/s eta 0:00:01\n",
      "\u001b[?25hCollecting certifi>=2017.4.17\n",
      "  Downloading certifi-2024.12.14-py3-none-any.whl (164 kB)\n",
      "\u001b[K     |████████████████████████████████| 164 kB 32.1 MB/s eta 0:00:01\n",
      "\u001b[?25hCollecting urllib3<3,>=1.21.1\n",
      "  Downloading urllib3-2.2.3-py3-none-any.whl (126 kB)\n",
      "\u001b[K     |████████████████████████████████| 126 kB 32.9 MB/s eta 0:00:01\n",
      "\u001b[?25hCollecting charset-normalizer<4,>=2\n",
      "  Downloading charset_normalizer-3.4.0-cp39-cp39-macosx_11_0_arm64.whl (120 kB)\n",
      "\u001b[K     |████████████████████████████████| 120 kB 53.8 MB/s eta 0:00:01\n",
      "\u001b[?25hCollecting idna<4,>=2.5\n",
      "  Downloading idna-3.10-py3-none-any.whl (70 kB)\n",
      "\u001b[K     |████████████████████████████████| 70 kB 34.3 MB/s eta 0:00:01\n",
      "\u001b[?25hCollecting soupsieve>1.2\n",
      "  Downloading soupsieve-2.6-py3-none-any.whl (36 kB)\n",
      "Collecting tzdata>=2022.7\n",
      "  Downloading tzdata-2024.2-py2.py3-none-any.whl (346 kB)\n",
      "\u001b[K     |████████████████████████████████| 346 kB 34.9 MB/s eta 0:00:01\n",
      "\u001b[?25hCollecting pytz>=2020.1\n",
      "  Downloading pytz-2024.2-py2.py3-none-any.whl (508 kB)\n",
      "\u001b[K     |████████████████████████████████| 508 kB 47.7 MB/s eta 0:00:01\n",
      "\u001b[?25hRequirement already satisfied: python-dateutil>=2.8.2 in /Users/verdianeouattara/Library/Python/3.9/lib/python/site-packages (from pandas) (2.9.0.post0)\n",
      "Requirement already satisfied: numpy>=1.22.4 in /Users/verdianeouattara/Library/Python/3.9/lib/python/site-packages (from pandas) (2.0.2)\n",
      "Requirement already satisfied: six>=1.5 in /Library/Developer/CommandLineTools/Library/Frameworks/Python3.framework/Versions/3.9/lib/python3.9/site-packages (from python-dateutil>=2.8.2->pandas) (1.15.0)\n",
      "Installing collected packages: urllib3, tzdata, soupsieve, pytz, idna, charset-normalizer, certifi, requests, pandas, beautifulsoup4\n",
      "Successfully installed beautifulsoup4-4.12.3 certifi-2024.12.14 charset-normalizer-3.4.0 idna-3.10 pandas-2.2.3 pytz-2024.2 requests-2.32.3 soupsieve-2.6 tzdata-2024.2 urllib3-2.2.3\n",
      "\u001b[33mWARNING: You are using pip version 21.2.4; however, version 24.3.1 is available.\n",
      "You should consider upgrading via the '/Library/Developer/CommandLineTools/usr/bin/python3 -m pip install --upgrade pip' command.\u001b[0m\n",
      "Note: you may need to restart the kernel to use updated packages.\n"
     ]
    }
   ],
   "source": [
    "pip install requests beautifulsoup4 pandas\n"
   ]
  },
  {
   "cell_type": "code",
   "execution_count": 4,
   "metadata": {},
   "outputs": [
    {
     "name": "stderr",
     "output_type": "stream",
     "text": [
      "/Users/verdianeouattara/Library/Python/3.9/lib/python/site-packages/urllib3/__init__.py:35: NotOpenSSLWarning: urllib3 v2 only supports OpenSSL 1.1.1+, currently the 'ssl' module is compiled with 'LibreSSL 2.8.3'. See: https://github.com/urllib3/urllib3/issues/3020\n",
      "  warnings.warn(\n"
     ]
    }
   ],
   "source": [
    "# Import des bibliothèques nécessaires\n",
    "import requests\n",
    "from bs4 import BeautifulSoup\n",
    "import pandas as pd\n",
    "\n",
    "\n"
   ]
  },
  {
   "cell_type": "markdown",
   "metadata": {},
   "source": [
    "Plan du TD\n",
    "1. Introduction et mise en place\n",
    "2. Extraction de données à partir d’une API\n",
    "3. Web scraping de textes"
   ]
  },
  {
   "cell_type": "markdown",
   "metadata": {},
   "source": [
    "L’objectif de ce TD est de collecter des données textuelles à partir de différentes\n",
    "sources et de les préparer pour des applications NLP."
   ]
  },
  {
   "cell_type": "markdown",
   "metadata": {},
   "source": [
    "1- Réponses aux questions\n"
   ]
  },
  {
   "cell_type": "markdown",
   "metadata": {},
   "source": [
    "—-->  Quelles sont les principales sources de données textuelles pour le NLP?\n",
    "\n",
    "Corpus existants : Bases linguistiques (ex. : Penn Treebank).\n",
    "\n",
    "Sites web : Articles, blogs, forums via web scraping.\n",
    "\n",
    "API : Services comme Twitter, Reddit, Wikipédia.\n",
    "Médias sociaux : Données textuelles de plateformes sociales.\n",
    "\n",
    "Documents publics : Livres, articles, documents officiels.\n",
    "\n",
    "Données propriétaires : Transcriptions, emails internes.\n",
    "\n",
    "—-->  Pourquoi la collecte de données est-elle essentielle pour le NLP?\n",
    "\n",
    "Permet de créer et d’entraîner des modèles NLP.\n",
    "\n",
    "Améliore la qualité et la précision des algorithmes.\n",
    "\n",
    "Reflète la diversité linguistique et contextuelle.\n",
    "\n",
    "Favorise l’adaptation à des domaines spécifiques.\n",
    "\n",
    "Fournit des données récentes pour des modèles à jour.\n",
    "\n",
    "\n",
    "\n",
    "\n",
    "\n"
   ]
  },
  {
   "cell_type": "markdown",
   "metadata": {},
   "source": [
    "2- Extraction de données à partir d’une API"
   ]
  },
  {
   "cell_type": "markdown",
   "metadata": {},
   "source": [
    "Pour ce TD, nous utiliserons une API comme NewsAPI, une API gratuite pour\n",
    "récupérer des articles d’actualité. Pour cela, il faut s’inscrire sur le site. "
   ]
  },
  {
   "cell_type": "markdown",
   "metadata": {},
   "source": [
    "Apres inscription sur le site, on peut accéder à la page . \n",
    "clé de connection : 77cc6eed4f9d4fbdb96588b0b5da8548 "
   ]
  },
  {
   "cell_type": "markdown",
   "metadata": {},
   "source": [
    "Effectuer une requête pour collecter des articles sur un thème donné.J'ai choisi la recherche sur la technologie \n"
   ]
  },
  {
   "cell_type": "code",
   "execution_count": 14,
   "metadata": {},
   "outputs": [
    {
     "name": "stdout",
     "output_type": "stream",
     "text": [
      "Defaulting to user installation because normal site-packages is not writeable\n",
      "Requirement already satisfied: python-decouple in /Users/verdianeouattara/Library/Python/3.9/lib/python/site-packages (3.8)\n",
      "\u001b[33mWARNING: You are using pip version 21.2.4; however, version 24.3.1 is available.\n",
      "You should consider upgrading via the '/Library/Developer/CommandLineTools/usr/bin/python3 -m pip install --upgrade pip' command.\u001b[0m\n",
      "Note: you may need to restart the kernel to use updated packages.\n"
     ]
    }
   ],
   "source": [
    "pip install python-decouple\n"
   ]
  },
  {
   "cell_type": "code",
   "execution_count": 20,
   "metadata": {},
   "outputs": [],
   "source": [
    "NEWS_API_KEY = \"77cc6eed4f9d4fbdb96588b0b5da8548\"\n"
   ]
  },
  {
   "cell_type": "code",
   "execution_count": null,
   "metadata": {},
   "outputs": [
    {
     "name": "stdout",
     "output_type": "stream",
     "text": [
      "100 articles trouvés.\n",
      "Article 1: Un coup de maître : ce génie candidate automatiquement à 1300 emplois grâce à l’IA - Une utilisation bluffante de cette technologie.\n",
      "Article 2: Le nombre de vidéos en français sur YouTube va exploser grâce à cette technologie - Google déploie une technologie de doublage automatique qui peut rendre les vidéos YouTube anglaises disponibles en français, et vice-versa. Cela peut aider les créateurs à étendre leur communauté, tout en permettant aux utilisateurs de la plateforme de profit…\n",
      "Article 3: L’IA va changer la façon dont vous lisez des livres d’après cet expert majeur - Le spécialiste a expliqué en quoi la technologie peut bousculer nos habitudes.\n",
      "Article 4: « Une batterie éternelle » : des scientifiques découvrent une technologie qui pourrait tout changer - Afin de construire des batteries toujours plus endurantes, des chercheurs ont eu l'idée d'utiliser des diamants. Les résultats sont impressionnants.\n",
      "Article 5: Galaxy S25 : Samsung réinvente son assistant avec cette technologie - Longtemps oublié, Bixby, l'assistant personnel de Samsung, fait son retour par la grande porte avec des fonctionnalités plus intelligentes. À chaque\n",
      "Article 6: De l’entrée de gamme au monstre de puissance, voici 3 configurations PC idéales pour fin 2024 ! - Dans un monde où la technologie évolue à un rythme effréné, choisir la configuration PC idéale peut s'avérer être un véritable défi.\n",
      "Article 7: «Reconnecter la technologie aux communautés vivantes» - Il est possible, si l’on ne veut pas abandonner l’avenir du numérique aux Big Tech, de s’engager dans des voies alternatives plus collectives et moins marchandes.\n",
      "Article 8: Une nouvelle génération de processeurs arrive en 2025 : “la technologie la plus avancée dans l’industrie des semi-conducteurs” - TSMC publie de nouvelles informations sur les puces N2, une nouvelle génération de processeurs qui va révolutionner les performances sur les smartphones et certains PC. D’après celle-ci, ses clients sont déjà en train de valider leurs puces basées sur cette n…\n",
      "Article 9: Ces ingénieurs viennent d’humaniser les robots en leur donnant le sens du toucher - Une équipe de chercheurs vient de dévoiler SonicSense, une technologie permettant aux robots d'interpréter leur environnement par les vibrations acoustiques.\n",
      "Article 10: Starlink dans votre smartphone, ce sera bientôt possible - C’est officiel : les autorités américaines ont donné leur feu vert à SpaceX pour connecter directement les smartphones au réseau Starlink. En partenariat avec T-Mobile, cette nouvelle technologie apportera du signal dans les endroits les plus reculés.\n",
      "Article 11: Piratage massif aux États-Unis : le FBI recommande les messageries chiffrées - Une vaste cyberattaque menée par des pirates chinois cible les infrastructures télécoms américaines, poussant le FBI à conseiller l’utilisation de messageries chiffrées. Une posture surprenante pour une agence qui milite souvent contre cette technologie.\n",
      "Article 12: OpenAI s’allie à Anduril pour développer une IA militaire - Comme de nombreux grands noms de l'IA, l'entreprise de Sam Altman continue sa percée dans ce domaine qu'elle s'engageait autrefois à rejeter.\n",
      "Article 13: Razer X Interhaptics : cette société lilloise est en train de révolutionner le monde - Dans les locaux d’Interhaptics à Lille, une équipe de passionnés redéfinit notre façon d’interagir avec la technologie. Portrait d’une success-story à la française qui dépasse le cadre du gaming.\n",
      "Article 14: Tesla et Rivian trouvent un accord après 4 ans de bataille juridique - Le conflit opposant les deux géants de la voiture électrique touche à sa fin. Tesla et Rivian ont annoncé un accord pour clore leur différend sur le présumé vol de technologie de batteries.\n",
      "Article 15: Cette voiture électrique chinoise reprend la meilleure technologie du Cybertruck avec un volant révolutionnaire - La Nio ET9, porte-étendard de la marque chinoise, continue de livrer ses secrets. Après avoir dévoilé sa charge ultra rapide ou sa suspension révolutionnaire, Nio vient de présenter son système de direction sans fil, baptisé \"steer-by-wire\", déjà présent sur …\n",
      "Article 16: 1 000 km d’autonomie en voiture électrique : cette nouvelle technologie de batterie promet du lourd - Les fabricants de batteries explorent plusieurs pistes pour \"l'après\" LFP (les batteries sans cobalt), en mettant l'accent notamment sur une meilleure densité énergétique et un poids plus contenu. Une récente étude révèle que les accumulateurs avec une anode …\n",
      "Article 17: Voiture électrique : le fournisseur de Tesla annonce l’arrivée de batteries beaucoup moins chères - Les voitures électriques abordables ne sont peut-être plus un rêve lointain. CATL, le plus grand fabricant mondial de batteries et fournisseur privilégié de Tesla, annonce une innovation majeure dans le domaine des batteries sodium.\n",
      "Article 18: Les prochaines Apple Watch adopteraient enfin cette technologie, cinq ans après l’iPhone - Apple déciderait de passer enfin ses Apple Watch de la 4G à la 5G avec un nouveau modèle prévu pour intégrer ses montres connectées en 2025 L'Apple Watch\n",
      "Article 19: Apple préparerait déjà la prochaine révolution pour les écrans de MacBook - Après avoir lancé son premier iPad Pro avec écran OLED en 2024, Apple préparerait l’arrivée des premiers MacBook OLED. D’après une récente publication de Trendforce, les MacBook OLED arriveraient entre 2026 et 2027, mais Apple aurait déjà demandé à ses fourni…\n",
      "Article 20: Un futur sans clics ni touches : cette IA redéfinit la façon dont on utilise les ordinateurs - Dans un avenir proche, on pourra demander à une intelligence artificielle de réaliser des tâches sur notre PC, sans toucher aux claviers et à la souris. En s’appuyant sur une nouveauté d’Anthropic, la startup Hume AI donne un aperçu de ce qui sera possible.\n",
      "Article 21: Dossier : L'intelligence artificielle : une révolution technologique aux lourdes conséquences environnementales - L'intelligence artificielle consomme des quantités astronomiques d'électricité. Voici un panorama de l'impact environnemental actuel et prévisionnel de cette technologie.\n",
      "Article 22: Samsung a déjà planché sur une batterie pliable pour ses futurs smartphones - Un brevet Samsung décrit une batterie pliable qui permettrait d’optimiser la gestion de l’espace et l’autonomie des smartphones pliants. Mais pour le moment, rien ne garantit que Samsung va développer cette technologie.\n",
      "Article 23: Genre, âge, handicap… L’IA renforce-t-elle les inégalités au travail ? - L’accès aux formations à l’IA varie drastiquement selon les catégories de personnes. Et c’est un gros problème.\n",
      "Article 24: Et si la navigation quantique remplaçait nos bons vieux GPS ? - Le GPS pourrait bien devenir un outil du passé. Face aux limites des satellites, notamment en cas de brouillage ou en milieu hostile, l’armée américaine mise sur la navigation quantique. Une technologie qui pourrait bientôt guider avions, navires… et peut-êtr…\n",
      "Article 25: MAX OLED : des écrans OLED plus grands à moindre coût - Applied Materials vient de lever le voile sur sa plateforme MAX OLED, qui pourrait bien changer la donne dans l’industrie des écrans. En simplifiant la fabrication et en abaissant les coûts, cette technologie pourrait étendre l’usage de l'OLED bien au-delà de…\n"
     ]
    }
   ],
   "source": [
    "import requests\n",
    "import pandas as pd\n",
    "from decouple import config\n",
    "\n",
    "# Charger la clé API à partir du fichier .env\n",
    "API_KEY = config(\"NEWS_API_KEY\")\n",
    "BASE_URL = \"https://newsapi.org/v2/everything\"\n",
    "\n",
    "# Paramètres de la requête\n",
    "params = {\n",
    "    'q': 'technologie',  # Thème recherché\n",
    "    'language': 'fr',    # Langue des articles\n",
    "    'sortBy': 'relevance',  # Trier par pertinence\n",
    "    'apiKey': API_KEY\n",
    "}\n",
    "\n",
    "# Effectuer la requête\n",
    "response = requests.get(BASE_URL, params=params)\n",
    "\n",
    "# Vérifier si la requête est réussie\n",
    "if response.status_code == 200:\n",
    "    data = response.json()  # Convertir les résultats en JSON\n",
    "    articles = data.get('articles', [])  # Récupérer les articles\n",
    "    print(f\"{len(articles)} articles trouvés.\")\n",
    "else:\n",
    "    print(f\"Erreur {response.status_code}: {response.text}\")\n",
    "    articles = []\n",
    "\n",
    "# Afficher quelques résultats\n",
    "if articles:\n",
    "    for i, article in enumerate(articles[:25]):  # Limiter à 5 articles\n",
    "        print(f\"Article {i+1}: {article['title']} - {article['description']}\")\n"
   ]
  },
  {
   "cell_type": "markdown",
   "metadata": {},
   "source": [
    "Exploration des résultats obtenus, en identifiant les titres et les descriptions des articles.\n"
   ]
  },
  {
   "cell_type": "code",
   "execution_count": 23,
   "metadata": {},
   "outputs": [
    {
     "name": "stdout",
     "output_type": "stream",
     "text": [
      "Article 1:\n",
      "  Titre       : Un coup de maître : ce génie candidate automatiquement à 1300 emplois grâce à l’IA\n",
      "  Description : Une utilisation bluffante de cette technologie.\n",
      "\n",
      "Article 2:\n",
      "  Titre       : Le nombre de vidéos en français sur YouTube va exploser grâce à cette technologie\n",
      "  Description : Google déploie une technologie de doublage automatique qui peut rendre les vidéos YouTube anglaises disponibles en français, et vice-versa. Cela peut aider les créateurs à étendre leur communauté, tout en permettant aux utilisateurs de la plateforme de profit…\n",
      "\n",
      "Article 3:\n",
      "  Titre       : L’IA va changer la façon dont vous lisez des livres d’après cet expert majeur\n",
      "  Description : Le spécialiste a expliqué en quoi la technologie peut bousculer nos habitudes.\n",
      "\n",
      "Article 4:\n",
      "  Titre       : « Une batterie éternelle » : des scientifiques découvrent une technologie qui pourrait tout changer\n",
      "  Description : Afin de construire des batteries toujours plus endurantes, des chercheurs ont eu l'idée d'utiliser des diamants. Les résultats sont impressionnants.\n",
      "\n",
      "Article 5:\n",
      "  Titre       : Galaxy S25 : Samsung réinvente son assistant avec cette technologie\n",
      "  Description : Longtemps oublié, Bixby, l'assistant personnel de Samsung, fait son retour par la grande porte avec des fonctionnalités plus intelligentes. À chaque\n",
      "\n",
      "Article 6:\n",
      "  Titre       : De l’entrée de gamme au monstre de puissance, voici 3 configurations PC idéales pour fin 2024 !\n",
      "  Description : Dans un monde où la technologie évolue à un rythme effréné, choisir la configuration PC idéale peut s'avérer être un véritable défi.\n",
      "\n",
      "Article 7:\n",
      "  Titre       : «Reconnecter la technologie aux communautés vivantes»\n",
      "  Description : Il est possible, si l’on ne veut pas abandonner l’avenir du numérique aux Big Tech, de s’engager dans des voies alternatives plus collectives et moins marchandes.\n",
      "\n",
      "Article 8:\n",
      "  Titre       : Une nouvelle génération de processeurs arrive en 2025 : “la technologie la plus avancée dans l’industrie des semi-conducteurs”\n",
      "  Description : TSMC publie de nouvelles informations sur les puces N2, une nouvelle génération de processeurs qui va révolutionner les performances sur les smartphones et certains PC. D’après celle-ci, ses clients sont déjà en train de valider leurs puces basées sur cette n…\n",
      "\n",
      "Article 9:\n",
      "  Titre       : Ces ingénieurs viennent d’humaniser les robots en leur donnant le sens du toucher\n",
      "  Description : Une équipe de chercheurs vient de dévoiler SonicSense, une technologie permettant aux robots d'interpréter leur environnement par les vibrations acoustiques.\n",
      "\n",
      "Article 10:\n",
      "  Titre       : Starlink dans votre smartphone, ce sera bientôt possible\n",
      "  Description : C’est officiel : les autorités américaines ont donné leur feu vert à SpaceX pour connecter directement les smartphones au réseau Starlink. En partenariat avec T-Mobile, cette nouvelle technologie apportera du signal dans les endroits les plus reculés.\n",
      "\n",
      "Article 11:\n",
      "  Titre       : Piratage massif aux États-Unis : le FBI recommande les messageries chiffrées\n",
      "  Description : Une vaste cyberattaque menée par des pirates chinois cible les infrastructures télécoms américaines, poussant le FBI à conseiller l’utilisation de messageries chiffrées. Une posture surprenante pour une agence qui milite souvent contre cette technologie.\n",
      "\n",
      "Article 12:\n",
      "  Titre       : OpenAI s’allie à Anduril pour développer une IA militaire\n",
      "  Description : Comme de nombreux grands noms de l'IA, l'entreprise de Sam Altman continue sa percée dans ce domaine qu'elle s'engageait autrefois à rejeter.\n",
      "\n",
      "Article 13:\n",
      "  Titre       : Razer X Interhaptics : cette société lilloise est en train de révolutionner le monde\n",
      "  Description : Dans les locaux d’Interhaptics à Lille, une équipe de passionnés redéfinit notre façon d’interagir avec la technologie. Portrait d’une success-story à la française qui dépasse le cadre du gaming.\n",
      "\n",
      "Article 14:\n",
      "  Titre       : Tesla et Rivian trouvent un accord après 4 ans de bataille juridique\n",
      "  Description : Le conflit opposant les deux géants de la voiture électrique touche à sa fin. Tesla et Rivian ont annoncé un accord pour clore leur différend sur le présumé vol de technologie de batteries.\n",
      "\n",
      "Article 15:\n",
      "  Titre       : Cette voiture électrique chinoise reprend la meilleure technologie du Cybertruck avec un volant révolutionnaire\n",
      "  Description : La Nio ET9, porte-étendard de la marque chinoise, continue de livrer ses secrets. Après avoir dévoilé sa charge ultra rapide ou sa suspension révolutionnaire, Nio vient de présenter son système de direction sans fil, baptisé \"steer-by-wire\", déjà présent sur …\n",
      "\n",
      "Article 16:\n",
      "  Titre       : 1 000 km d’autonomie en voiture électrique : cette nouvelle technologie de batterie promet du lourd\n",
      "  Description : Les fabricants de batteries explorent plusieurs pistes pour \"l'après\" LFP (les batteries sans cobalt), en mettant l'accent notamment sur une meilleure densité énergétique et un poids plus contenu. Une récente étude révèle que les accumulateurs avec une anode …\n",
      "\n",
      "Article 17:\n",
      "  Titre       : Voiture électrique : le fournisseur de Tesla annonce l’arrivée de batteries beaucoup moins chères\n",
      "  Description : Les voitures électriques abordables ne sont peut-être plus un rêve lointain. CATL, le plus grand fabricant mondial de batteries et fournisseur privilégié de Tesla, annonce une innovation majeure dans le domaine des batteries sodium.\n",
      "\n",
      "Article 18:\n",
      "  Titre       : Les prochaines Apple Watch adopteraient enfin cette technologie, cinq ans après l’iPhone\n",
      "  Description : Apple déciderait de passer enfin ses Apple Watch de la 4G à la 5G avec un nouveau modèle prévu pour intégrer ses montres connectées en 2025 L'Apple Watch\n",
      "\n",
      "Article 19:\n",
      "  Titre       : Apple préparerait déjà la prochaine révolution pour les écrans de MacBook\n",
      "  Description : Après avoir lancé son premier iPad Pro avec écran OLED en 2024, Apple préparerait l’arrivée des premiers MacBook OLED. D’après une récente publication de Trendforce, les MacBook OLED arriveraient entre 2026 et 2027, mais Apple aurait déjà demandé à ses fourni…\n",
      "\n",
      "Article 20:\n",
      "  Titre       : Un futur sans clics ni touches : cette IA redéfinit la façon dont on utilise les ordinateurs\n",
      "  Description : Dans un avenir proche, on pourra demander à une intelligence artificielle de réaliser des tâches sur notre PC, sans toucher aux claviers et à la souris. En s’appuyant sur une nouveauté d’Anthropic, la startup Hume AI donne un aperçu de ce qui sera possible.\n",
      "\n",
      "Article 21:\n",
      "  Titre       : Dossier : L'intelligence artificielle : une révolution technologique aux lourdes conséquences environnementales\n",
      "  Description : L'intelligence artificielle consomme des quantités astronomiques d'électricité. Voici un panorama de l'impact environnemental actuel et prévisionnel de cette technologie.\n",
      "\n",
      "Article 22:\n",
      "  Titre       : Samsung a déjà planché sur une batterie pliable pour ses futurs smartphones\n",
      "  Description : Un brevet Samsung décrit une batterie pliable qui permettrait d’optimiser la gestion de l’espace et l’autonomie des smartphones pliants. Mais pour le moment, rien ne garantit que Samsung va développer cette technologie.\n",
      "\n",
      "Article 23:\n",
      "  Titre       : Genre, âge, handicap… L’IA renforce-t-elle les inégalités au travail ?\n",
      "  Description : L’accès aux formations à l’IA varie drastiquement selon les catégories de personnes. Et c’est un gros problème.\n",
      "\n",
      "Article 24:\n",
      "  Titre       : Et si la navigation quantique remplaçait nos bons vieux GPS ?\n",
      "  Description : Le GPS pourrait bien devenir un outil du passé. Face aux limites des satellites, notamment en cas de brouillage ou en milieu hostile, l’armée américaine mise sur la navigation quantique. Une technologie qui pourrait bientôt guider avions, navires… et peut-êtr…\n",
      "\n",
      "Article 25:\n",
      "  Titre       : MAX OLED : des écrans OLED plus grands à moindre coût\n",
      "  Description : Applied Materials vient de lever le voile sur sa plateforme MAX OLED, qui pourrait bien changer la donne dans l’industrie des écrans. En simplifiant la fabrication et en abaissant les coûts, cette technologie pourrait étendre l’usage de l'OLED bien au-delà de…\n",
      "\n",
      "Article 26:\n",
      "  Titre       : La police utilise un hologramme de la victime pour relancer un Cold Case\n",
      "  Description : Quinze ans après le meurtre brutal de Bernadett « Betty » Szabó dans le quartier rouge d’Amsterdam, la police néerlandaise mise sur une technologie inédite pour raviver les souvenirs des témoins. Un hologramme grandeur nature de la jeune Hongroise, tuée en 20…\n",
      "\n",
      "Article 27:\n",
      "  Titre       : Actualité : Tencent se lance sur le marché des consoles PC portable avec une technologie inspirée par Nintendo\n",
      "  Description : Tencent vient de lever le voile sur la Sunday Dragon 3D One, développée en partenariat avec Intel. Comme la 3DS avant elle, cette \"console-portable-PC-gamer\" serait capable de donner l'illusion de la 3D sans aucun besoin de lunettes adaptées.\n",
      "\n",
      "Article 28:\n",
      "  Titre       : Le Dolby Atmos a un nouveau rival\n",
      "  Description : L'entreprise britannique Audioscenic vient d’annoncer le développement d'Amphi Hi-D, une technologie de son spatial multicanal qui promet de transformer l'expérience audio des utilisateurs sans nécessiter de casque et qui compte bien rivaliser avec l’omniprés…\n",
      "\n",
      "Article 29:\n",
      "  Titre       : Un capot qui a du ressort : Volkswagen booste la sécurité des piétons\n",
      "  Description : La sécurité des piétons reste une priorité pour les constructeurs automobiles. Volkswagen a dévoilé un système de « capot actif » sur l’ID.7, une nouveauté pour réduire les blessures lors d’un éventuel impact avec un piéton.\n",
      "\n",
      "Article 30:\n",
      "  Titre       : Apple préparerait une version “LLM” de Siri pour 2026 : qu’est-ce que ça change ?\n",
      "  Description : Siri préparerait une version améliorée de Siri, qui serait plus proche de ChatGPT et de Gemini. La marque à la pomme pourrait présenter cette nouveauté en 2025, puis lancer celle-ci au printemps 2026.\n",
      "\n"
     ]
    }
   ],
   "source": [
    "# Extraire les titres et descriptions\n",
    "for i, article in enumerate(articles[:30]):  \n",
    "    print(f\"Article {i+1}:\")\n",
    "    print(f\"  Titre       : {article['title']}\")\n",
    "    print(f\"  Description : {article['description']}\\n\")\n"
   ]
  },
  {
   "cell_type": "markdown",
   "metadata": {},
   "source": [
    "Sauvegarde des résultats dans un fichier CSV pour une utilisation ultérieure."
   ]
  },
  {
   "cell_type": "code",
   "execution_count": 24,
   "metadata": {},
   "outputs": [
    {
     "name": "stdout",
     "output_type": "stream",
     "text": [
      "Les résultats ont été sauvegardés dans 'articles_technologie.csv'.\n"
     ]
    }
   ],
   "source": [
    "# Organiser les données dans un DataFrame\n",
    "articles_data = [\n",
    "    {'Titre': article['title'], 'Description': article['description'], 'URL': article['url']}\n",
    "    for article in articles\n",
    "]\n",
    "\n",
    "df = pd.DataFrame(articles_data)\n",
    "\n",
    "# Sauvegarder dans un fichier CSV\n",
    "df.to_csv('articles_technologie.csv', index=False, encoding='utf-8')\n",
    "print(\"Les résultats ont été sauvegardés dans 'articles_technologie.csv'.\")\n"
   ]
  },
  {
   "cell_type": "markdown",
   "metadata": {},
   "source": [
    "3- Web scraping de textes"
   ]
  },
  {
   "cell_type": "markdown",
   "metadata": {},
   "source": [
    "Dans cette partie, nous utiliserons un outil comme BeautifulSoup pour extraire des\n",
    "données textuelles à partir d’un site web."
   ]
  },
  {
   "cell_type": "code",
   "execution_count": null,
   "metadata": {},
   "outputs": [],
   "source": []
  },
  {
   "cell_type": "code",
   "execution_count": null,
   "metadata": {},
   "outputs": [],
   "source": []
  },
  {
   "cell_type": "code",
   "execution_count": null,
   "metadata": {},
   "outputs": [],
   "source": []
  },
  {
   "cell_type": "code",
   "execution_count": null,
   "metadata": {},
   "outputs": [],
   "source": []
  },
  {
   "cell_type": "code",
   "execution_count": null,
   "metadata": {},
   "outputs": [],
   "source": []
  },
  {
   "cell_type": "code",
   "execution_count": null,
   "metadata": {},
   "outputs": [],
   "source": []
  },
  {
   "cell_type": "code",
   "execution_count": null,
   "metadata": {},
   "outputs": [],
   "source": []
  },
  {
   "cell_type": "code",
   "execution_count": null,
   "metadata": {},
   "outputs": [],
   "source": []
  },
  {
   "cell_type": "code",
   "execution_count": null,
   "metadata": {},
   "outputs": [],
   "source": []
  }
 ],
 "metadata": {
  "kernelspec": {
   "display_name": "Python 3",
   "language": "python",
   "name": "python3"
  },
  "language_info": {
   "codemirror_mode": {
    "name": "ipython",
    "version": 3
   },
   "file_extension": ".py",
   "mimetype": "text/x-python",
   "name": "python",
   "nbconvert_exporter": "python",
   "pygments_lexer": "ipython3",
   "version": "3.9.6"
  }
 },
 "nbformat": 4,
 "nbformat_minor": 2
}
